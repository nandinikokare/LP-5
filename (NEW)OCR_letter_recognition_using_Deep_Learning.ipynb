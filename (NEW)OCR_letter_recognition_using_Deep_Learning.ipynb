{
 "cells": [
  {
   "cell_type": "markdown",
   "metadata": {
    "id": "tXg2Z1tCTBIK"
   },
   "source": [
    "**OCR letter recognition using Deep Learning**"
   ]
  },
  {
   "cell_type": "code",
   "execution_count": 11,
   "metadata": {
    "id": "47caRDrZTBIL"
   },
   "outputs": [],
   "source": [
    "import numpy as np\n",
    "import pandas as pd\n",
    "import tensorflow as tf\n",
    "from sklearn.model_selection import train_test_split\n",
    "from sklearn.preprocessing import LabelEncoder\n",
    "from tensorflow.keras.models import Sequential\n",
    "from tensorflow.keras.layers import *\n",
    "import matplotlib.pyplot as plt"
   ]
  },
  {
   "cell_type": "code",
   "execution_count": 13,
   "metadata": {
    "id": "rYcNGDSfTBIN"
   },
   "outputs": [],
   "source": [
    "# Load the OCR letter recognition dataset\n",
    "dataset = pd.read_csv('letter-recognition.data')"
   ]
  },
  {
   "cell_type": "markdown",
   "metadata": {
    "id": "AjhtHEFsTBIN"
   },
   "source": [
    "**OR**\n",
    "##### Load the OCR letter recognition dataset, Link\n",
    "\n",
    "url = 'letter-recognition.data'\n",
    "\n",
    "dataset = pd.read_csv(url, header=None)"
   ]
  },
  {
   "cell_type": "code",
   "execution_count": 16,
   "metadata": {
    "id": "hSpJmlfPTBIO"
   },
   "outputs": [],
   "source": [
    "# Split the dataset into features and labels\n",
    "X = dataset.iloc[:, 1:].values  #selecting all rows and selecting all columns from index 1\n",
    "y = dataset.iloc[:, 0].values   #selecting all rows and selecting column with index 0"
   ]
  },
  {
   "cell_type": "code",
   "execution_count": 18,
   "metadata": {
    "colab": {
     "base_uri": "https://localhost:8080/"
    },
    "id": "LPvK3drpTBIO",
    "outputId": "22133181-492a-4965-92d5-a2bd71bcee9e"
   },
   "outputs": [
    {
     "name": "stdout",
     "output_type": "stream",
     "text": [
      "I\n"
     ]
    }
   ],
   "source": [
    "print(y[0])"
   ]
  },
  {
   "cell_type": "code",
   "execution_count": 20,
   "metadata": {
    "id": "gHyAmpabTBIP"
   },
   "outputs": [],
   "source": [
    "# Encode the labels into numeric value\n",
    "label_encoder = LabelEncoder()\n",
    "y = label_encoder.fit_transform(y)"
   ]
  },
  {
   "cell_type": "code",
   "execution_count": 22,
   "metadata": {
    "id": "19jA1_9YTBIQ"
   },
   "outputs": [
    {
     "name": "stdout",
     "output_type": "stream",
     "text": [
      "8\n"
     ]
    }
   ],
   "source": [
    "print(y[0])"
   ]
  },
  {
   "cell_type": "code",
   "execution_count": 24,
   "metadata": {
    "id": "RYS2sf9qTBIQ"
   },
   "outputs": [],
   "source": [
    "#splitting dataset into training and testing\n",
    "X_train, X_test, y_train, y_test = train_test_split(X, y, test_size=0.2, random_state=1)"
   ]
  },
  {
   "cell_type": "code",
   "execution_count": 26,
   "metadata": {
    "id": "nAdw5T4PTBIR"
   },
   "outputs": [],
   "source": [
    "X_train = X_train / 15.0\n",
    "X_test = X_test / 15.0"
   ]
  },
  {
   "cell_type": "code",
   "execution_count": 28,
   "metadata": {
    "id": "OixVkjFtTBIR"
   },
   "outputs": [
    {
     "name": "stderr",
     "output_type": "stream",
     "text": [
      "C:\\Users\\sejal\\ana\\envs\\gpu_env\\Lib\\site-packages\\keras\\src\\layers\\core\\dense.py:87: UserWarning: Do not pass an `input_shape`/`input_dim` argument to a layer. When using Sequential models, prefer using an `Input(shape)` object as the first layer in the model instead.\n",
      "  super().__init__(activity_regularizer=activity_regularizer, **kwargs)\n"
     ]
    }
   ],
   "source": [
    "#we are using sequential model where layers are stacked one after another,\n",
    "#output of previous layer is given to as input to next layer\n",
    "\n",
    "model = Sequential()\n",
    "#1st layer is dense layer which consists on 128 neurons, since it is 1st layer we need to define input_shape of our training data\n",
    "model.add(Dense(128, activation='relu', input_shape=(16,)))\n",
    "model.add(Dropout(0.5))\n",
    "model.add(Dense(64, activation='relu'))\n",
    "model.add(Dropout(0.5))\n",
    "model.add(Dense(26, activation='softmax'))  #softmax is used to predict multiclass category outcome"
   ]
  },
  {
   "cell_type": "code",
   "execution_count": 30,
   "metadata": {
    "id": "ztdPbxaVTBIR"
   },
   "outputs": [],
   "source": [
    "#now we will compile the model\n",
    "\n",
    "#sparse_categorical_crossentropy (scce) produces a category index of the most likely matching category.\n",
    "model.compile(loss='sparse_categorical_crossentropy', optimizer='adam', metrics =['accuracy'])"
   ]
  },
  {
   "cell_type": "code",
   "execution_count": 32,
   "metadata": {
    "id": "qnGdzGrVTBIS"
   },
   "outputs": [
    {
     "name": "stdout",
     "output_type": "stream",
     "text": [
      "Epoch 1/50\n",
      "\u001b[1m1334/1334\u001b[0m \u001b[32m━━━━━━━━━━━━━━━━━━━━\u001b[0m\u001b[37m\u001b[0m \u001b[1m13s\u001b[0m 6ms/step - accuracy: 0.1210 - loss: 3.0075 - val_accuracy: 0.5555 - val_loss: 1.8018\n",
      "Epoch 2/50\n",
      "\u001b[1m1334/1334\u001b[0m \u001b[32m━━━━━━━━━━━━━━━━━━━━\u001b[0m\u001b[37m\u001b[0m \u001b[1m8s\u001b[0m 6ms/step - accuracy: 0.3738 - loss: 1.9915 - val_accuracy: 0.6308 - val_loss: 1.3741\n",
      "Epoch 3/50\n",
      "\u001b[1m1334/1334\u001b[0m \u001b[32m━━━━━━━━━━━━━━━━━━━━\u001b[0m\u001b[37m\u001b[0m \u001b[1m8s\u001b[0m 6ms/step - accuracy: 0.4768 - loss: 1.6630 - val_accuracy: 0.6570 - val_loss: 1.2273\n",
      "Epoch 4/50\n",
      "\u001b[1m1334/1334\u001b[0m \u001b[32m━━━━━━━━━━━━━━━━━━━━\u001b[0m\u001b[37m\u001b[0m \u001b[1m8s\u001b[0m 6ms/step - accuracy: 0.5084 - loss: 1.5474 - val_accuracy: 0.6890 - val_loss: 1.1029\n",
      "Epoch 5/50\n",
      "\u001b[1m1334/1334\u001b[0m \u001b[32m━━━━━━━━━━━━━━━━━━━━\u001b[0m\u001b[37m\u001b[0m \u001b[1m8s\u001b[0m 6ms/step - accuracy: 0.5412 - loss: 1.4294 - val_accuracy: 0.6780 - val_loss: 1.0514\n",
      "Epoch 6/50\n",
      "\u001b[1m1334/1334\u001b[0m \u001b[32m━━━━━━━━━━━━━━━━━━━━\u001b[0m\u001b[37m\u001b[0m \u001b[1m8s\u001b[0m 6ms/step - accuracy: 0.5629 - loss: 1.3545 - val_accuracy: 0.7103 - val_loss: 1.0000\n",
      "Epoch 7/50\n",
      "\u001b[1m1334/1334\u001b[0m \u001b[32m━━━━━━━━━━━━━━━━━━━━\u001b[0m\u001b[37m\u001b[0m \u001b[1m8s\u001b[0m 6ms/step - accuracy: 0.5888 - loss: 1.3210 - val_accuracy: 0.7220 - val_loss: 0.9447\n",
      "Epoch 8/50\n",
      "\u001b[1m1334/1334\u001b[0m \u001b[32m━━━━━━━━━━━━━━━━━━━━\u001b[0m\u001b[37m\u001b[0m \u001b[1m8s\u001b[0m 6ms/step - accuracy: 0.5896 - loss: 1.2759 - val_accuracy: 0.7377 - val_loss: 0.9009\n",
      "Epoch 9/50\n",
      "\u001b[1m1334/1334\u001b[0m \u001b[32m━━━━━━━━━━━━━━━━━━━━\u001b[0m\u001b[37m\u001b[0m \u001b[1m8s\u001b[0m 6ms/step - accuracy: 0.6088 - loss: 1.2384 - val_accuracy: 0.7455 - val_loss: 0.8819\n",
      "Epoch 10/50\n",
      "\u001b[1m1334/1334\u001b[0m \u001b[32m━━━━━━━━━━━━━━━━━━━━\u001b[0m\u001b[37m\u001b[0m \u001b[1m8s\u001b[0m 6ms/step - accuracy: 0.6227 - loss: 1.1906 - val_accuracy: 0.7483 - val_loss: 0.8458\n",
      "Epoch 11/50\n",
      "\u001b[1m1334/1334\u001b[0m \u001b[32m━━━━━━━━━━━━━━━━━━━━\u001b[0m\u001b[37m\u001b[0m \u001b[1m8s\u001b[0m 6ms/step - accuracy: 0.6242 - loss: 1.1844 - val_accuracy: 0.7560 - val_loss: 0.8252\n",
      "Epoch 12/50\n",
      "\u001b[1m1334/1334\u001b[0m \u001b[32m━━━━━━━━━━━━━━━━━━━━\u001b[0m\u001b[37m\u001b[0m \u001b[1m8s\u001b[0m 6ms/step - accuracy: 0.6353 - loss: 1.1519 - val_accuracy: 0.7678 - val_loss: 0.7939\n",
      "Epoch 13/50\n",
      "\u001b[1m1334/1334\u001b[0m \u001b[32m━━━━━━━━━━━━━━━━━━━━\u001b[0m\u001b[37m\u001b[0m \u001b[1m8s\u001b[0m 6ms/step - accuracy: 0.6449 - loss: 1.1310 - val_accuracy: 0.7650 - val_loss: 0.7983\n",
      "Epoch 14/50\n",
      "\u001b[1m1334/1334\u001b[0m \u001b[32m━━━━━━━━━━━━━━━━━━━━\u001b[0m\u001b[37m\u001b[0m \u001b[1m8s\u001b[0m 6ms/step - accuracy: 0.6495 - loss: 1.1213 - val_accuracy: 0.7747 - val_loss: 0.7705\n",
      "Epoch 15/50\n",
      "\u001b[1m1334/1334\u001b[0m \u001b[32m━━━━━━━━━━━━━━━━━━━━\u001b[0m\u001b[37m\u001b[0m \u001b[1m8s\u001b[0m 6ms/step - accuracy: 0.6487 - loss: 1.1041 - val_accuracy: 0.7818 - val_loss: 0.7473\n",
      "Epoch 16/50\n",
      "\u001b[1m1334/1334\u001b[0m \u001b[32m━━━━━━━━━━━━━━━━━━━━\u001b[0m\u001b[37m\u001b[0m \u001b[1m8s\u001b[0m 6ms/step - accuracy: 0.6526 - loss: 1.1028 - val_accuracy: 0.7785 - val_loss: 0.7442\n",
      "Epoch 17/50\n",
      "\u001b[1m1334/1334\u001b[0m \u001b[32m━━━━━━━━━━━━━━━━━━━━\u001b[0m\u001b[37m\u001b[0m \u001b[1m9s\u001b[0m 6ms/step - accuracy: 0.6583 - loss: 1.0761 - val_accuracy: 0.7807 - val_loss: 0.7322\n",
      "Epoch 18/50\n",
      "\u001b[1m1334/1334\u001b[0m \u001b[32m━━━━━━━━━━━━━━━━━━━━\u001b[0m\u001b[37m\u001b[0m \u001b[1m9s\u001b[0m 6ms/step - accuracy: 0.6658 - loss: 1.0432 - val_accuracy: 0.7887 - val_loss: 0.7064\n",
      "Epoch 19/50\n",
      "\u001b[1m1334/1334\u001b[0m \u001b[32m━━━━━━━━━━━━━━━━━━━━\u001b[0m\u001b[37m\u001b[0m \u001b[1m9s\u001b[0m 7ms/step - accuracy: 0.6674 - loss: 1.0596 - val_accuracy: 0.7885 - val_loss: 0.7229\n",
      "Epoch 20/50\n",
      "\u001b[1m1334/1334\u001b[0m \u001b[32m━━━━━━━━━━━━━━━━━━━━\u001b[0m\u001b[37m\u001b[0m \u001b[1m9s\u001b[0m 7ms/step - accuracy: 0.6764 - loss: 1.0139 - val_accuracy: 0.7870 - val_loss: 0.6934\n",
      "Epoch 21/50\n",
      "\u001b[1m1334/1334\u001b[0m \u001b[32m━━━━━━━━━━━━━━━━━━━━\u001b[0m\u001b[37m\u001b[0m \u001b[1m9s\u001b[0m 7ms/step - accuracy: 0.6804 - loss: 1.0073 - val_accuracy: 0.7970 - val_loss: 0.6869\n",
      "Epoch 22/50\n",
      "\u001b[1m1334/1334\u001b[0m \u001b[32m━━━━━━━━━━━━━━━━━━━━\u001b[0m\u001b[37m\u001b[0m \u001b[1m9s\u001b[0m 6ms/step - accuracy: 0.6737 - loss: 1.0339 - val_accuracy: 0.8025 - val_loss: 0.6740\n",
      "Epoch 23/50\n",
      "\u001b[1m1334/1334\u001b[0m \u001b[32m━━━━━━━━━━━━━━━━━━━━\u001b[0m\u001b[37m\u001b[0m \u001b[1m9s\u001b[0m 7ms/step - accuracy: 0.6783 - loss: 1.0086 - val_accuracy: 0.8067 - val_loss: 0.6566\n",
      "Epoch 24/50\n",
      "\u001b[1m1334/1334\u001b[0m \u001b[32m━━━━━━━━━━━━━━━━━━━━\u001b[0m\u001b[37m\u001b[0m \u001b[1m9s\u001b[0m 7ms/step - accuracy: 0.6778 - loss: 1.0106 - val_accuracy: 0.8002 - val_loss: 0.6622\n",
      "Epoch 25/50\n",
      "\u001b[1m1334/1334\u001b[0m \u001b[32m━━━━━━━━━━━━━━━━━━━━\u001b[0m\u001b[37m\u001b[0m \u001b[1m9s\u001b[0m 7ms/step - accuracy: 0.6914 - loss: 0.9799 - val_accuracy: 0.8115 - val_loss: 0.6498\n",
      "Epoch 26/50\n",
      "\u001b[1m1334/1334\u001b[0m \u001b[32m━━━━━━━━━━━━━━━━━━━━\u001b[0m\u001b[37m\u001b[0m \u001b[1m9s\u001b[0m 6ms/step - accuracy: 0.6970 - loss: 0.9651 - val_accuracy: 0.8070 - val_loss: 0.6399\n",
      "Epoch 27/50\n",
      "\u001b[1m1334/1334\u001b[0m \u001b[32m━━━━━━━━━━━━━━━━━━━━\u001b[0m\u001b[37m\u001b[0m \u001b[1m9s\u001b[0m 6ms/step - accuracy: 0.6994 - loss: 0.9714 - val_accuracy: 0.8070 - val_loss: 0.6394\n",
      "Epoch 28/50\n",
      "\u001b[1m1334/1334\u001b[0m \u001b[32m━━━━━━━━━━━━━━━━━━━━\u001b[0m\u001b[37m\u001b[0m \u001b[1m9s\u001b[0m 6ms/step - accuracy: 0.6903 - loss: 0.9784 - val_accuracy: 0.8083 - val_loss: 0.6380\n",
      "Epoch 29/50\n",
      "\u001b[1m1334/1334\u001b[0m \u001b[32m━━━━━━━━━━━━━━━━━━━━\u001b[0m\u001b[37m\u001b[0m \u001b[1m9s\u001b[0m 7ms/step - accuracy: 0.6939 - loss: 0.9611 - val_accuracy: 0.8120 - val_loss: 0.6446\n",
      "Epoch 30/50\n",
      "\u001b[1m1334/1334\u001b[0m \u001b[32m━━━━━━━━━━━━━━━━━━━━\u001b[0m\u001b[37m\u001b[0m \u001b[1m9s\u001b[0m 7ms/step - accuracy: 0.6883 - loss: 0.9887 - val_accuracy: 0.8095 - val_loss: 0.6303\n",
      "Epoch 31/50\n",
      "\u001b[1m1334/1334\u001b[0m \u001b[32m━━━━━━━━━━━━━━━━━━━━\u001b[0m\u001b[37m\u001b[0m \u001b[1m9s\u001b[0m 7ms/step - accuracy: 0.6959 - loss: 0.9592 - val_accuracy: 0.8227 - val_loss: 0.6101\n",
      "Epoch 32/50\n",
      "\u001b[1m1334/1334\u001b[0m \u001b[32m━━━━━━━━━━━━━━━━━━━━\u001b[0m\u001b[37m\u001b[0m \u001b[1m9s\u001b[0m 7ms/step - accuracy: 0.6958 - loss: 0.9713 - val_accuracy: 0.8198 - val_loss: 0.6008\n",
      "Epoch 33/50\n",
      "\u001b[1m1334/1334\u001b[0m \u001b[32m━━━━━━━━━━━━━━━━━━━━\u001b[0m\u001b[37m\u001b[0m \u001b[1m9s\u001b[0m 7ms/step - accuracy: 0.6958 - loss: 0.9524 - val_accuracy: 0.8232 - val_loss: 0.5974\n",
      "Epoch 34/50\n",
      "\u001b[1m1334/1334\u001b[0m \u001b[32m━━━━━━━━━━━━━━━━━━━━\u001b[0m\u001b[37m\u001b[0m \u001b[1m9s\u001b[0m 6ms/step - accuracy: 0.7103 - loss: 0.9210 - val_accuracy: 0.8223 - val_loss: 0.5921\n",
      "Epoch 35/50\n",
      "\u001b[1m1334/1334\u001b[0m \u001b[32m━━━━━━━━━━━━━━━━━━━━\u001b[0m\u001b[37m\u001b[0m \u001b[1m8s\u001b[0m 6ms/step - accuracy: 0.6994 - loss: 0.9430 - val_accuracy: 0.8202 - val_loss: 0.5961\n",
      "Epoch 36/50\n",
      "\u001b[1m1334/1334\u001b[0m \u001b[32m━━━━━━━━━━━━━━━━━━━━\u001b[0m\u001b[37m\u001b[0m \u001b[1m8s\u001b[0m 6ms/step - accuracy: 0.7017 - loss: 0.9436 - val_accuracy: 0.8165 - val_loss: 0.6004\n",
      "Epoch 37/50\n",
      "\u001b[1m1334/1334\u001b[0m \u001b[32m━━━━━━━━━━━━━━━━━━━━\u001b[0m\u001b[37m\u001b[0m \u001b[1m8s\u001b[0m 6ms/step - accuracy: 0.7020 - loss: 0.9320 - val_accuracy: 0.8260 - val_loss: 0.5824\n",
      "Epoch 38/50\n",
      "\u001b[1m1334/1334\u001b[0m \u001b[32m━━━━━━━━━━━━━━━━━━━━\u001b[0m\u001b[37m\u001b[0m \u001b[1m9s\u001b[0m 6ms/step - accuracy: 0.7087 - loss: 0.9292 - val_accuracy: 0.8245 - val_loss: 0.5798\n",
      "Epoch 39/50\n",
      "\u001b[1m1334/1334\u001b[0m \u001b[32m━━━━━━━━━━━━━━━━━━━━\u001b[0m\u001b[37m\u001b[0m \u001b[1m8s\u001b[0m 6ms/step - accuracy: 0.7100 - loss: 0.9223 - val_accuracy: 0.8260 - val_loss: 0.5752\n",
      "Epoch 40/50\n",
      "\u001b[1m1334/1334\u001b[0m \u001b[32m━━━━━━━━━━━━━━━━━━━━\u001b[0m\u001b[37m\u001b[0m \u001b[1m9s\u001b[0m 6ms/step - accuracy: 0.7018 - loss: 0.9321 - val_accuracy: 0.8275 - val_loss: 0.5708\n",
      "Epoch 41/50\n",
      "\u001b[1m1334/1334\u001b[0m \u001b[32m━━━━━━━━━━━━━━━━━━━━\u001b[0m\u001b[37m\u001b[0m \u001b[1m8s\u001b[0m 6ms/step - accuracy: 0.7161 - loss: 0.9084 - val_accuracy: 0.8288 - val_loss: 0.5720\n",
      "Epoch 42/50\n",
      "\u001b[1m1334/1334\u001b[0m \u001b[32m━━━━━━━━━━━━━━━━━━━━\u001b[0m\u001b[37m\u001b[0m \u001b[1m9s\u001b[0m 7ms/step - accuracy: 0.7050 - loss: 0.9218 - val_accuracy: 0.8288 - val_loss: 0.5579\n",
      "Epoch 43/50\n",
      "\u001b[1m1334/1334\u001b[0m \u001b[32m━━━━━━━━━━━━━━━━━━━━\u001b[0m\u001b[37m\u001b[0m \u001b[1m8s\u001b[0m 6ms/step - accuracy: 0.7049 - loss: 0.9336 - val_accuracy: 0.8275 - val_loss: 0.5684\n",
      "Epoch 44/50\n",
      "\u001b[1m1334/1334\u001b[0m \u001b[32m━━━━━━━━━━━━━━━━━━━━\u001b[0m\u001b[37m\u001b[0m \u001b[1m8s\u001b[0m 6ms/step - accuracy: 0.7060 - loss: 0.9028 - val_accuracy: 0.8202 - val_loss: 0.5865\n",
      "Epoch 45/50\n",
      "\u001b[1m1334/1334\u001b[0m \u001b[32m━━━━━━━━━━━━━━━━━━━━\u001b[0m\u001b[37m\u001b[0m \u001b[1m8s\u001b[0m 6ms/step - accuracy: 0.7143 - loss: 0.8914 - val_accuracy: 0.8310 - val_loss: 0.5569\n",
      "Epoch 46/50\n",
      "\u001b[1m1334/1334\u001b[0m \u001b[32m━━━━━━━━━━━━━━━━━━━━\u001b[0m\u001b[37m\u001b[0m \u001b[1m8s\u001b[0m 6ms/step - accuracy: 0.7146 - loss: 0.9000 - val_accuracy: 0.8278 - val_loss: 0.5624\n",
      "Epoch 47/50\n",
      "\u001b[1m1334/1334\u001b[0m \u001b[32m━━━━━━━━━━━━━━━━━━━━\u001b[0m\u001b[37m\u001b[0m \u001b[1m8s\u001b[0m 6ms/step - accuracy: 0.7077 - loss: 0.9167 - val_accuracy: 0.8183 - val_loss: 0.5767\n",
      "Epoch 48/50\n",
      "\u001b[1m1334/1334\u001b[0m \u001b[32m━━━━━━━━━━━━━━━━━━━━\u001b[0m\u001b[37m\u001b[0m \u001b[1m8s\u001b[0m 6ms/step - accuracy: 0.7125 - loss: 0.9142 - val_accuracy: 0.8245 - val_loss: 0.5623\n",
      "Epoch 49/50\n",
      "\u001b[1m1334/1334\u001b[0m \u001b[32m━━━━━━━━━━━━━━━━━━━━\u001b[0m\u001b[37m\u001b[0m \u001b[1m8s\u001b[0m 6ms/step - accuracy: 0.7232 - loss: 0.8754 - val_accuracy: 0.8325 - val_loss: 0.5515\n",
      "Epoch 50/50\n",
      "\u001b[1m1334/1334\u001b[0m \u001b[32m━━━━━━━━━━━━━━━━━━━━\u001b[0m\u001b[37m\u001b[0m \u001b[1m8s\u001b[0m 6ms/step - accuracy: 0.7124 - loss: 0.8978 - val_accuracy: 0.8390 - val_loss: 0.5513\n"
     ]
    }
   ],
   "source": [
    "#The batch size is a number of samples processed before the model is updated.\n",
    "#verbose is the choice that how you want to see the output of your Nural Network while it's training.\n",
    "#If you set verbose = 0, It will show nothing\n",
    "history = model.fit(X_train, y_train, validation_data=(X_test, y_test), epochs=50, batch_size=12, verbose=1)"
   ]
  },
  {
   "cell_type": "code",
   "execution_count": 33,
   "metadata": {
    "id": "Vic0GeLMTBIS"
   },
   "outputs": [
    {
     "name": "stdout",
     "output_type": "stream",
     "text": [
      "\u001b[1m125/125\u001b[0m \u001b[32m━━━━━━━━━━━━━━━━━━━━\u001b[0m\u001b[37m\u001b[0m \u001b[1m1s\u001b[0m 5ms/step - accuracy: 0.8340 - loss: 0.5556 \n",
      "Test accuracy: 0.8389999866485596\n",
      "Test loss: 0.5512892007827759\n"
     ]
    }
   ],
   "source": [
    "loss, accuracy = model.evaluate(X_test, y_test)\n",
    "print(\"Test accuracy:\", accuracy)\n",
    "print(\"Test loss:\", loss)"
   ]
  },
  {
   "cell_type": "code",
   "execution_count": 34,
   "metadata": {
    "id": "0LfkkmA-TBIS"
   },
   "outputs": [
    {
     "name": "stderr",
     "output_type": "stream",
     "text": [
      "WARNING:absl:You are saving your model as an HDF5 file via `model.save()` or `keras.saving.save_model(model)`. This file format is considered legacy. We recommend using instead the native Keras format, e.g. `model.save('my_model.keras')` or `keras.saving.save_model(model, 'my_model.keras')`. \n"
     ]
    }
   ],
   "source": [
    "model.save('ocr_model.h5')\n",
    "# Save the trained model"
   ]
  },
  {
   "cell_type": "code",
   "execution_count": 35,
   "metadata": {
    "id": "t_zBQwOsTBIS"
   },
   "outputs": [
    {
     "name": "stderr",
     "output_type": "stream",
     "text": [
      "WARNING:absl:Compiled the loaded model, but the compiled metrics have yet to be built. `model.compile_metrics` will be empty until you train or evaluate the model.\n"
     ]
    }
   ],
   "source": [
    "from tensorflow.keras.models import load_model\n",
    "model = load_model('ocr_model.h5')\n",
    "# Load the trained model\n"
   ]
  },
  {
   "cell_type": "code",
   "execution_count": null,
   "metadata": {
    "execution": {
     "iopub.execute_input": "2023-06-27T10:06:41.544591Z",
     "iopub.status.busy": "2023-06-27T10:06:41.543922Z",
     "iopub.status.idle": "2023-06-27T10:06:41.548726Z",
     "shell.execute_reply": "2023-06-27T10:06:41.547562Z",
     "shell.execute_reply.started": "2023-06-27T10:06:41.544557Z"
    },
    "id": "pwQjyBSCTBIT"
   },
   "outputs": [],
   "source": [
    "sample_records = X_test[:1000]\n",
    "# Select a few records for classification"
   ]
  },
  {
   "cell_type": "code",
   "execution_count": null,
   "metadata": {
    "execution": {
     "iopub.execute_input": "2023-06-27T10:06:41.550642Z",
     "iopub.status.busy": "2023-06-27T10:06:41.550243Z",
     "iopub.status.idle": "2023-06-27T10:06:41.776956Z",
     "shell.execute_reply": "2023-06-27T10:06:41.775819Z",
     "shell.execute_reply.started": "2023-06-27T10:06:41.550605Z"
    },
    "id": "KzTmTlDMTBIT"
   },
   "outputs": [],
   "source": [
    "# Perform classification\n",
    "predictions = model.predict(sample_records)"
   ]
  },
  {
   "cell_type": "code",
   "execution_count": null,
   "metadata": {
    "execution": {
     "iopub.execute_input": "2023-06-27T10:06:41.77863Z",
     "iopub.status.busy": "2023-06-27T10:06:41.778299Z",
     "iopub.status.idle": "2023-06-27T10:06:41.785082Z",
     "shell.execute_reply": "2023-06-27T10:06:41.783979Z",
     "shell.execute_reply.started": "2023-06-27T10:06:41.778602Z"
    },
    "id": "E_8VewjfTBIT"
   },
   "outputs": [],
   "source": [
    "predicted_labels = np.argmax(predictions, axis=1)\n",
    "predicted_letters = label_encoder.inverse_transform(predicted_labels)\n",
    "actual_letters = label_encoder.inverse_transform(y_test)"
   ]
  },
  {
   "cell_type": "code",
   "execution_count": null,
   "metadata": {
    "execution": {
     "iopub.execute_input": "2023-06-27T10:06:41.786791Z",
     "iopub.status.busy": "2023-06-27T10:06:41.786466Z",
     "iopub.status.idle": "2023-06-27T10:06:41.806261Z",
     "shell.execute_reply": "2023-06-27T10:06:41.80489Z",
     "shell.execute_reply.started": "2023-06-27T10:06:41.786742Z"
    },
    "id": "9QKpHoRDTBIT"
   },
   "outputs": [],
   "source": [
    "# Calculate accuracy\n",
    "accuracy = np.sum(predicted_labels == y[:1000]) / len(predicted_labels)"
   ]
  },
  {
   "cell_type": "code",
   "execution_count": null,
   "metadata": {
    "execution": {
     "iopub.execute_input": "2023-06-27T10:06:41.808384Z",
     "iopub.status.busy": "2023-06-27T10:06:41.807875Z",
     "iopub.status.idle": "2023-06-27T10:06:41.833918Z",
     "shell.execute_reply": "2023-06-27T10:06:41.832552Z",
     "shell.execute_reply.started": "2023-06-27T10:06:41.808347Z"
    },
    "id": "Fc_wIs0yTBIT"
   },
   "outputs": [],
   "source": [
    "# Print the predicted labels and corresponding actual labels\n",
    "print(\"Predicted Labels\\tActual Labels\")\n",
    "for i in range(len(predicted_letters)):\n",
    "    print(f\"{predicted_letters[i]}\\t\\t\\t{actual_letters[i]}\")"
   ]
  }
 ],
 "metadata": {
  "colab": {
   "name": "OCR letter recognition using Deep Learning",
   "provenance": []
  },
  "kernelspec": {
   "display_name": "Python (gpu_env)",
   "language": "python",
   "name": "gpu_env"
  },
  "language_info": {
   "codemirror_mode": {
    "name": "ipython",
    "version": 3
   },
   "file_extension": ".py",
   "mimetype": "text/x-python",
   "name": "python",
   "nbconvert_exporter": "python",
   "pygments_lexer": "ipython3",
   "version": "3.12.9"
  }
 },
 "nbformat": 4,
 "nbformat_minor": 4
}
