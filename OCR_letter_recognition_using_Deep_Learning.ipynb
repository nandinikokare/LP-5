{
  "metadata": {
    "kernelspec": {
      "language": "python",
      "display_name": "Python 3",
      "name": "python3"
    },
    "language_info": {
      "pygments_lexer": "ipython3",
      "nbconvert_exporter": "python",
      "version": "3.6.4",
      "file_extension": ".py",
      "codemirror_mode": {
        "name": "ipython",
        "version": 3
      },
      "name": "python",
      "mimetype": "text/x-python"
    },
    "colab": {
      "name": "OCR letter recognition using Deep Learning",
      "provenance": []
    }
  },
  "nbformat_minor": 0,
  "nbformat": 4,
  "cells": [
    {
      "cell_type": "markdown",
      "source": [
        "**OCR letter recognition using Deep Learning**"
      ],
      "metadata": {
        "id": "tXg2Z1tCTBIK"
      }
    },
    {
      "cell_type": "code",
      "source": [
        "import numpy as np\n",
        "import pandas as pd\n",
        "import tensorflow as tf\n",
        "from sklearn.model_selection import train_test_split\n",
        "from sklearn.preprocessing import LabelEncoder\n",
        "from tensorflow.keras.models import Sequential\n",
        "from tensorflow.keras.layers import *\n",
        "import matplotlib.pyplot as plt"
      ],
      "metadata": {
        "execution": {
          "iopub.status.busy": "2023-06-27T10:03:12.585231Z",
          "iopub.execute_input": "2023-06-27T10:03:12.585706Z",
          "iopub.status.idle": "2023-06-27T10:03:16.467755Z",
          "shell.execute_reply.started": "2023-06-27T10:03:12.585673Z",
          "shell.execute_reply": "2023-06-27T10:03:16.466413Z"
        },
        "trusted": true,
        "id": "47caRDrZTBIL"
      },
      "execution_count": 1,
      "outputs": []
    },
    {
      "cell_type": "code",
      "source": [
        "# Load the OCR letter recognition dataset\n",
        "url = 'https://archive.ics.uci.edu/ml/machine-learning-databases/letter-recognition/letter-recognition.data'\n",
        "dataset = pd.read_csv(url, header=None)"
      ],
      "metadata": {
        "execution": {
          "iopub.status.busy": "2023-06-27T10:03:16.469219Z",
          "iopub.execute_input": "2023-06-27T10:03:16.470117Z",
          "iopub.status.idle": "2023-06-27T10:03:17.716583Z",
          "shell.execute_reply.started": "2023-06-27T10:03:16.470073Z",
          "shell.execute_reply": "2023-06-27T10:03:17.715296Z"
        },
        "trusted": true,
        "id": "rYcNGDSfTBIN"
      },
      "execution_count": 2,
      "outputs": []
    },
    {
      "cell_type": "markdown",
      "source": [
        "**OR**\n",
        "##### Load the OCR letter recognition dataset, Link\n",
        "\n",
        "url = 'letter-recognition.data'\n",
        "\n",
        "dataset = pd.read_csv(url, header=None)"
      ],
      "metadata": {
        "id": "AjhtHEFsTBIN"
      }
    },
    {
      "cell_type": "code",
      "source": [
        "# Split the dataset into features and labels\n",
        "X = dataset.iloc[:, 1:].values  #selecting all rows and selecting all columns from index 1\n",
        "y = dataset.iloc[:, 0].values   #selecting all rows and selecting column with index 0"
      ],
      "metadata": {
        "execution": {
          "iopub.status.busy": "2023-06-27T10:03:17.718296Z",
          "iopub.execute_input": "2023-06-27T10:03:17.71874Z",
          "iopub.status.idle": "2023-06-27T10:03:17.725031Z",
          "shell.execute_reply.started": "2023-06-27T10:03:17.718708Z",
          "shell.execute_reply": "2023-06-27T10:03:17.724087Z"
        },
        "trusted": true,
        "id": "hSpJmlfPTBIO"
      },
      "execution_count": 3,
      "outputs": []
    },
    {
      "cell_type": "code",
      "source": [
        "print(y[0])"
      ],
      "metadata": {
        "execution": {
          "iopub.status.busy": "2023-06-27T10:03:17.728766Z",
          "iopub.execute_input": "2023-06-27T10:03:17.72914Z",
          "iopub.status.idle": "2023-06-27T10:03:17.742537Z",
          "shell.execute_reply.started": "2023-06-27T10:03:17.729109Z",
          "shell.execute_reply": "2023-06-27T10:03:17.74166Z"
        },
        "trusted": true,
        "id": "LPvK3drpTBIO",
        "outputId": "22133181-492a-4965-92d5-a2bd71bcee9e",
        "colab": {
          "base_uri": "https://localhost:8080/"
        }
      },
      "execution_count": 4,
      "outputs": [
        {
          "output_type": "stream",
          "name": "stdout",
          "text": [
            "T\n"
          ]
        }
      ]
    },
    {
      "cell_type": "code",
      "source": [
        "# Encode the labels into numeric value\n",
        "label_encoder = LabelEncoder()\n",
        "y = label_encoder.fit_transform(y)"
      ],
      "metadata": {
        "execution": {
          "iopub.status.busy": "2023-06-27T10:03:17.743919Z",
          "iopub.execute_input": "2023-06-27T10:03:17.744215Z",
          "iopub.status.idle": "2023-06-27T10:03:17.761382Z",
          "shell.execute_reply.started": "2023-06-27T10:03:17.744189Z",
          "shell.execute_reply": "2023-06-27T10:03:17.760205Z"
        },
        "trusted": true,
        "id": "gHyAmpabTBIP"
      },
      "execution_count": 5,
      "outputs": []
    },
    {
      "cell_type": "code",
      "source": [
        "print(y[0])"
      ],
      "metadata": {
        "execution": {
          "iopub.status.busy": "2023-06-27T10:03:17.762809Z",
          "iopub.execute_input": "2023-06-27T10:03:17.763423Z",
          "iopub.status.idle": "2023-06-27T10:03:17.782483Z",
          "shell.execute_reply.started": "2023-06-27T10:03:17.763381Z",
          "shell.execute_reply": "2023-06-27T10:03:17.781363Z"
        },
        "trusted": true,
        "id": "19jA1_9YTBIQ"
      },
      "execution_count": null,
      "outputs": []
    },
    {
      "cell_type": "code",
      "source": [
        "#splitting dataset into training and testing\n",
        "X_train, X_test, y_train, y_test = train_test_split(X, y, test_size=0.2, random_state=1)"
      ],
      "metadata": {
        "execution": {
          "iopub.status.busy": "2023-06-27T10:03:17.784077Z",
          "iopub.execute_input": "2023-06-27T10:03:17.784754Z",
          "iopub.status.idle": "2023-06-27T10:03:17.799652Z",
          "shell.execute_reply.started": "2023-06-27T10:03:17.784712Z",
          "shell.execute_reply": "2023-06-27T10:03:17.798385Z"
        },
        "trusted": true,
        "id": "RYS2sf9qTBIQ"
      },
      "execution_count": null,
      "outputs": []
    },
    {
      "cell_type": "code",
      "source": [
        "X_train = X_train / 15.0\n",
        "X_test = X_test / 15.0"
      ],
      "metadata": {
        "execution": {
          "iopub.status.busy": "2023-06-27T10:03:17.801395Z",
          "iopub.execute_input": "2023-06-27T10:03:17.801851Z",
          "iopub.status.idle": "2023-06-27T10:03:17.811831Z",
          "shell.execute_reply.started": "2023-06-27T10:03:17.801813Z",
          "shell.execute_reply": "2023-06-27T10:03:17.810815Z"
        },
        "trusted": true,
        "id": "nAdw5T4PTBIR"
      },
      "execution_count": null,
      "outputs": []
    },
    {
      "cell_type": "code",
      "source": [
        "#we are using sequential model where layers are stacked one after another,\n",
        "#output of previous layer is given to as input to next layer\n",
        "\n",
        "model = Sequential()\n",
        "#1st layer is dense layer which consists on 128 neurons, since it is 1st layer we need to define input_shape of our training data\n",
        "model.add(Dense(128, activation='relu', input_shape=(16,)))\n",
        "model.add(Dropout(0.5))\n",
        "model.add(Dense(64, activation='relu'))\n",
        "model.add(Dropout(0.5))\n",
        "model.add(Dense(26, activation='softmax'))  #softmax is used to predict multiclass category outcome"
      ],
      "metadata": {
        "execution": {
          "iopub.status.busy": "2023-06-27T10:03:17.813359Z",
          "iopub.execute_input": "2023-06-27T10:03:17.813933Z",
          "iopub.status.idle": "2023-06-27T10:03:17.934317Z",
          "shell.execute_reply.started": "2023-06-27T10:03:17.813903Z",
          "shell.execute_reply": "2023-06-27T10:03:17.93309Z"
        },
        "trusted": true,
        "id": "OixVkjFtTBIR"
      },
      "execution_count": null,
      "outputs": []
    },
    {
      "cell_type": "code",
      "source": [
        "#now we will compile the model\n",
        "\n",
        "#sparse_categorical_crossentropy (scce) produces a category index of the most likely matching category.\n",
        "model.compile(loss='sparse_categorical_crossentropy', optimizer='adam', metrics =['accuracy'])"
      ],
      "metadata": {
        "execution": {
          "iopub.status.busy": "2023-06-27T10:03:17.936004Z",
          "iopub.execute_input": "2023-06-27T10:03:17.936345Z",
          "iopub.status.idle": "2023-06-27T10:03:17.954953Z",
          "shell.execute_reply.started": "2023-06-27T10:03:17.936317Z",
          "shell.execute_reply": "2023-06-27T10:03:17.953708Z"
        },
        "trusted": true,
        "id": "ztdPbxaVTBIR"
      },
      "execution_count": null,
      "outputs": []
    },
    {
      "cell_type": "code",
      "source": [
        "#The batch size is a number of samples processed before the model is updated.\n",
        "#verbose is the choice that how you want to see the output of your Nural Network while it's training.\n",
        "#If you set verbose = 0, It will show nothing\n",
        "history = model.fit(X_train, y_train, validation_data=(X_test, y_test), epochs=50, batch_size=12, verbose=1)"
      ],
      "metadata": {
        "execution": {
          "iopub.status.busy": "2023-06-27T10:03:17.957874Z",
          "iopub.execute_input": "2023-06-27T10:03:17.958324Z",
          "iopub.status.idle": "2023-06-27T10:06:41.0272Z",
          "shell.execute_reply.started": "2023-06-27T10:03:17.958283Z",
          "shell.execute_reply": "2023-06-27T10:06:41.026046Z"
        },
        "trusted": true,
        "id": "qnGdzGrVTBIS"
      },
      "execution_count": null,
      "outputs": []
    },
    {
      "cell_type": "code",
      "source": [
        "loss, accuracy = model.evaluate(X_test, y_test)\n",
        "print(\"Test accuracy:\", accuracy)\n",
        "print(\"Test loss:\", loss)"
      ],
      "metadata": {
        "execution": {
          "iopub.status.busy": "2023-06-27T10:06:41.028918Z",
          "iopub.execute_input": "2023-06-27T10:06:41.03004Z",
          "iopub.status.idle": "2023-06-27T10:06:41.401304Z",
          "shell.execute_reply.started": "2023-06-27T10:06:41.030001Z",
          "shell.execute_reply": "2023-06-27T10:06:41.400118Z"
        },
        "trusted": true,
        "id": "Vic0GeLMTBIS"
      },
      "execution_count": null,
      "outputs": []
    },
    {
      "cell_type": "code",
      "source": [
        "model.save('ocr_model.h5')\n",
        "# Save the trained model"
      ],
      "metadata": {
        "execution": {
          "iopub.status.busy": "2023-06-27T10:06:41.405293Z",
          "iopub.execute_input": "2023-06-27T10:06:41.405653Z",
          "iopub.status.idle": "2023-06-27T10:06:41.438997Z",
          "shell.execute_reply.started": "2023-06-27T10:06:41.40562Z",
          "shell.execute_reply": "2023-06-27T10:06:41.437847Z"
        },
        "trusted": true,
        "id": "0LfkkmA-TBIS"
      },
      "execution_count": null,
      "outputs": []
    },
    {
      "cell_type": "code",
      "source": [
        "from tensorflow.keras.models import load_model\n",
        "model = load_model('ocr_model.h5')\n",
        "# Load the trained model\n"
      ],
      "metadata": {
        "execution": {
          "iopub.status.busy": "2023-06-27T10:06:41.440595Z",
          "iopub.execute_input": "2023-06-27T10:06:41.441105Z",
          "iopub.status.idle": "2023-06-27T10:06:41.541934Z",
          "shell.execute_reply.started": "2023-06-27T10:06:41.441072Z",
          "shell.execute_reply": "2023-06-27T10:06:41.540722Z"
        },
        "trusted": true,
        "id": "t_zBQwOsTBIS"
      },
      "execution_count": null,
      "outputs": []
    },
    {
      "cell_type": "code",
      "source": [
        "sample_records = X_test[:1000]\n",
        "# Select a few records for classification"
      ],
      "metadata": {
        "execution": {
          "iopub.status.busy": "2023-06-27T10:06:41.543922Z",
          "iopub.execute_input": "2023-06-27T10:06:41.544591Z",
          "iopub.status.idle": "2023-06-27T10:06:41.548726Z",
          "shell.execute_reply.started": "2023-06-27T10:06:41.544557Z",
          "shell.execute_reply": "2023-06-27T10:06:41.547562Z"
        },
        "trusted": true,
        "id": "pwQjyBSCTBIT"
      },
      "execution_count": null,
      "outputs": []
    },
    {
      "cell_type": "code",
      "source": [
        "# Perform classification\n",
        "predictions = model.predict(sample_records)"
      ],
      "metadata": {
        "execution": {
          "iopub.status.busy": "2023-06-27T10:06:41.550243Z",
          "iopub.execute_input": "2023-06-27T10:06:41.550642Z",
          "iopub.status.idle": "2023-06-27T10:06:41.776956Z",
          "shell.execute_reply.started": "2023-06-27T10:06:41.550605Z",
          "shell.execute_reply": "2023-06-27T10:06:41.775819Z"
        },
        "trusted": true,
        "id": "KzTmTlDMTBIT"
      },
      "execution_count": null,
      "outputs": []
    },
    {
      "cell_type": "code",
      "source": [
        "predicted_labels = np.argmax(predictions, axis=1)\n",
        "predicted_letters = label_encoder.inverse_transform(predicted_labels)\n",
        "actual_letters = label_encoder.inverse_transform(y_test)"
      ],
      "metadata": {
        "execution": {
          "iopub.status.busy": "2023-06-27T10:06:41.778299Z",
          "iopub.execute_input": "2023-06-27T10:06:41.77863Z",
          "iopub.status.idle": "2023-06-27T10:06:41.785082Z",
          "shell.execute_reply.started": "2023-06-27T10:06:41.778602Z",
          "shell.execute_reply": "2023-06-27T10:06:41.783979Z"
        },
        "trusted": true,
        "id": "E_8VewjfTBIT"
      },
      "execution_count": null,
      "outputs": []
    },
    {
      "cell_type": "code",
      "source": [
        "# Calculate accuracy\n",
        "accuracy = np.sum(predicted_labels == y[:1000]) / len(predicted_labels)"
      ],
      "metadata": {
        "execution": {
          "iopub.status.busy": "2023-06-27T10:06:41.786466Z",
          "iopub.execute_input": "2023-06-27T10:06:41.786791Z",
          "iopub.status.idle": "2023-06-27T10:06:41.806261Z",
          "shell.execute_reply.started": "2023-06-27T10:06:41.786742Z",
          "shell.execute_reply": "2023-06-27T10:06:41.80489Z"
        },
        "trusted": true,
        "id": "9QKpHoRDTBIT"
      },
      "execution_count": null,
      "outputs": []
    },
    {
      "cell_type": "code",
      "source": [
        "# Print the predicted labels and corresponding actual labels\n",
        "print(\"Predicted Labels\\tActual Labels\")\n",
        "for i in range(len(predicted_letters)):\n",
        "    print(f\"{predicted_letters[i]}\\t\\t\\t{actual_letters[i]}\")"
      ],
      "metadata": {
        "execution": {
          "iopub.status.busy": "2023-06-27T10:06:41.807875Z",
          "iopub.execute_input": "2023-06-27T10:06:41.808384Z",
          "iopub.status.idle": "2023-06-27T10:06:41.833918Z",
          "shell.execute_reply.started": "2023-06-27T10:06:41.808347Z",
          "shell.execute_reply": "2023-06-27T10:06:41.832552Z"
        },
        "trusted": true,
        "id": "Fc_wIs0yTBIT"
      },
      "execution_count": null,
      "outputs": []
    }
  ]
}